{
  "nbformat": 4,
  "nbformat_minor": 0,
  "metadata": {
    "colab": {
      "name": "「assignment1.ipynb」的副本",
      "provenance": [],
      "collapsed_sections": [],
      "include_colab_link": true
    },
    "kernelspec": {
      "name": "ir",
      "display_name": "R"
    }
  },
  "cells": [
    {
      "cell_type": "markdown",
      "metadata": {
        "id": "view-in-github",
        "colab_type": "text"
      },
      "source": [
        "<a href=\"https://colab.research.google.com/github/S10958018/lichen/blob/master/%E3%80%8Cassignment1_ipynb%E3%80%8D%E7%9A%84%E5%89%AF%E6%9C%AC.ipynb\" target=\"_parent\"><img src=\"https://colab.research.google.com/assets/colab-badge.svg\" alt=\"Open In Colab\"/></a>"
      ]
    },
    {
      "cell_type": "code",
      "metadata": {
        "id": "yzVA6aTsXBbp",
        "colab_type": "code",
        "colab": {
          "base_uri": "https://localhost:8080/",
          "height": 34
        },
        "outputId": "d1077a5b-c0e1-49b7-a5b1-029894d2df68"
      },
      "source": [
        "class(3)"
      ],
      "execution_count": null,
      "outputs": [
        {
          "output_type": "display_data",
          "data": {
            "text/plain": [
              "[1] \"numeric\""
            ],
            "text/latex": "'numeric'",
            "text/markdown": "'numeric'",
            "text/html": [
              "'numeric'"
            ]
          },
          "metadata": {
            "tags": []
          }
        }
      ]
    },
    {
      "cell_type": "code",
      "metadata": {
        "id": "RhLeLH6BXoXi",
        "colab_type": "code",
        "colab": {
          "base_uri": "https://localhost:8080/",
          "height": 34
        },
        "outputId": "973d2dfa-56f8-4c60-d2ac-e6fbbb0167e6"
      },
      "source": [
        "class(\"hi\")"
      ],
      "execution_count": null,
      "outputs": [
        {
          "output_type": "display_data",
          "data": {
            "text/plain": [
              "[1] \"character\""
            ],
            "text/latex": "'character'",
            "text/markdown": "'character'",
            "text/html": [
              "'character'"
            ]
          },
          "metadata": {
            "tags": []
          }
        }
      ]
    },
    {
      "cell_type": "code",
      "metadata": {
        "id": "bzMtvcf8XwRS",
        "colab_type": "code",
        "colab": {
          "base_uri": "https://localhost:8080/",
          "height": 34
        },
        "outputId": "bf4e60a8-1c5b-4b75-82cf-ccae7dd6d164"
      },
      "source": [
        "8 > 7"
      ],
      "execution_count": null,
      "outputs": [
        {
          "output_type": "display_data",
          "data": {
            "text/plain": [
              "[1] TRUE"
            ],
            "text/latex": "TRUE",
            "text/markdown": "TRUE",
            "text/html": [
              "TRUE"
            ]
          },
          "metadata": {
            "tags": []
          }
        }
      ]
    },
    {
      "cell_type": "code",
      "metadata": {
        "id": "nH979idhX0LK",
        "colab_type": "code",
        "colab": {
          "base_uri": "https://localhost:8080/",
          "height": 34
        },
        "outputId": "6221c755-20d8-4aaf-e91e-141183fd3c33"
      },
      "source": [
        "8 + 7"
      ],
      "execution_count": null,
      "outputs": [
        {
          "output_type": "display_data",
          "data": {
            "text/plain": [
              "[1] 15"
            ],
            "text/latex": "15",
            "text/markdown": "15",
            "text/html": [
              "15"
            ]
          },
          "metadata": {
            "tags": []
          }
        }
      ]
    },
    {
      "cell_type": "code",
      "metadata": {
        "id": "AoO3McBiY-ii",
        "colab_type": "code",
        "colab": {}
      },
      "source": [
        "my_H <- 175"
      ],
      "execution_count": null,
      "outputs": []
    },
    {
      "cell_type": "code",
      "metadata": {
        "id": "8D1cXNzWY_d6",
        "colab_type": "code",
        "colab": {}
      },
      "source": [
        "my_W <- 77"
      ],
      "execution_count": null,
      "outputs": []
    },
    {
      "cell_type": "code",
      "metadata": {
        "id": "aJglIh3IZH8M",
        "colab_type": "code",
        "colab": {}
      },
      "source": [
        "first_name <- \"lichen\""
      ],
      "execution_count": null,
      "outputs": []
    },
    {
      "cell_type": "code",
      "metadata": {
        "id": "7j2WeFDVZnGz",
        "colab_type": "code",
        "colab": {
          "base_uri": "https://localhost:8080/",
          "height": 34
        },
        "outputId": "4c5f765d-b3bd-43bc-8b19-9382f3f5cdda"
      },
      "source": [
        "first_name"
      ],
      "execution_count": null,
      "outputs": [
        {
          "output_type": "display_data",
          "data": {
            "text/plain": [
              "[1] \"lichen\""
            ],
            "text/latex": "'lichen'",
            "text/markdown": "'lichen'",
            "text/html": [
              "'lichen'"
            ]
          },
          "metadata": {
            "tags": []
          }
        }
      ]
    },
    {
      "cell_type": "code",
      "metadata": {
        "id": "xwYjxuI8ZsCg",
        "colab_type": "code",
        "colab": {
          "base_uri": "https://localhost:8080/",
          "height": 34
        },
        "outputId": "eb934675-464a-4baf-fcf8-2ce78530232e"
      },
      "source": [
        "my_W/(my_H/100)/(my_H/100)"
      ],
      "execution_count": null,
      "outputs": [
        {
          "output_type": "display_data",
          "data": {
            "text/plain": [
              "[1] 25.14286"
            ],
            "text/latex": "25.1428571428571",
            "text/markdown": "25.1428571428571",
            "text/html": [
              "25.1428571428571"
            ]
          },
          "metadata": {
            "tags": []
          }
        }
      ]
    },
    {
      "cell_type": "code",
      "metadata": {
        "id": "OAUqpS5UcM4N",
        "colab_type": "code",
        "colab": {}
      },
      "source": [
        "BMI = my_W/(my_H/100)/(my_H/100)"
      ],
      "execution_count": null,
      "outputs": []
    },
    {
      "cell_type": "code",
      "metadata": {
        "id": "683C03IvbuNU",
        "colab_type": "code",
        "colab": {
          "base_uri": "https://localhost:8080/",
          "height": 34
        },
        "outputId": "b48d2775-08fa-4762-e921-103ca097e387"
      },
      "source": [
        "paste0(\"我的名字\",first_name)"
      ],
      "execution_count": null,
      "outputs": [
        {
          "output_type": "display_data",
          "data": {
            "text/plain": [
              "[1] \"我的名字lichen\""
            ],
            "text/latex": "'我的名字lichen'",
            "text/markdown": "'我的名字lichen'",
            "text/html": [
              "'我的名字lichen'"
            ]
          },
          "metadata": {
            "tags": []
          }
        }
      ]
    },
    {
      "cell_type": "code",
      "metadata": {
        "id": "gsbcoozPbweJ",
        "colab_type": "code",
        "colab": {
          "base_uri": "https://localhost:8080/",
          "height": 34
        },
        "outputId": "e72f0515-a6a7-499f-9af6-b1be2e570161"
      },
      "source": [
        "paste0(\"我的身高\",my_H)"
      ],
      "execution_count": null,
      "outputs": [
        {
          "output_type": "display_data",
          "data": {
            "text/plain": [
              "[1] \"我的身高175\""
            ],
            "text/latex": "'我的身高175'",
            "text/markdown": "'我的身高175'",
            "text/html": [
              "'我的身高175'"
            ]
          },
          "metadata": {
            "tags": []
          }
        }
      ]
    },
    {
      "cell_type": "code",
      "metadata": {
        "id": "DgUIz4xebwlf",
        "colab_type": "code",
        "colab": {
          "base_uri": "https://localhost:8080/",
          "height": 34
        },
        "outputId": "0f49fdad-273a-4e06-8f3d-c8fae4298e0e"
      },
      "source": [
        "paste0(\"我的體重\",my_W)"
      ],
      "execution_count": null,
      "outputs": [
        {
          "output_type": "display_data",
          "data": {
            "text/plain": [
              "[1] \"我的體重77\""
            ],
            "text/latex": "'我的體重77'",
            "text/markdown": "'我的體重77'",
            "text/html": [
              "'我的體重77'"
            ]
          },
          "metadata": {
            "tags": []
          }
        }
      ]
    },
    {
      "cell_type": "code",
      "metadata": {
        "id": "wHU4rl2LbVnX",
        "colab_type": "code",
        "colab": {
          "base_uri": "https://localhost:8080/",
          "height": 34
        },
        "outputId": "7ee64a2f-8335-4b61-dcfa-f440a045d500"
      },
      "source": [
        "paste0(\"我的BMI\",BMI)"
      ],
      "execution_count": null,
      "outputs": [
        {
          "output_type": "display_data",
          "data": {
            "text/plain": [
              "[1] \"我的BMI25.1428571428571\""
            ],
            "text/latex": "'我的BMI25.1428571428571'",
            "text/markdown": "'我的BMI25.1428571428571'",
            "text/html": [
              "'我的BMI25.1428571428571'"
            ]
          },
          "metadata": {
            "tags": []
          }
        }
      ]
    }
  ]
}